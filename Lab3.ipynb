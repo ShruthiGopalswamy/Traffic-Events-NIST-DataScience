{
 "metadata": {
  "name": "",
  "signature": "sha256:f667261326135a6b492e9367ed8569ab236bbb86cfc30f2943c93c4a34e1d9da"
 },
 "nbformat": 3,
 "nbformat_minor": 0,
 "worksheets": [
  {
   "cells": [
    {
     "cell_type": "heading",
     "level": 1,
     "metadata": {},
     "source": [
      "Question 1"
     ]
    },
    {
     "cell_type": "code",
     "collapsed": false,
     "input": [
      "innerQuery=pd.merge(Classes,Grades,on='class_id')\n",
      "innerQuery=innerQuery[innerQuery.grade=='A']\n",
      "outerQuery=pd.merge(Students,innerQuery ,on='student_id')\n",
      "result=outerQuery[outerQuery.name=='Alice'][['title']]\n",
      "result"
     ],
     "language": "python",
     "metadata": {},
     "outputs": [
      {
       "html": [
        "<div style=\"max-height:1000px;max-width:1500px;overflow:auto;\">\n",
        "<table border=\"1\" class=\"dataframe\">\n",
        "  <thead>\n",
        "    <tr style=\"text-align: right;\">\n",
        "      <th></th>\n",
        "      <th>title</th>\n",
        "    </tr>\n",
        "  </thead>\n",
        "  <tbody>\n",
        "    <tr>\n",
        "      <th>0</th>\n",
        "      <td> Math</td>\n",
        "    </tr>\n",
        "  </tbody>\n",
        "</table>\n",
        "</div>"
       ],
       "metadata": {},
       "output_type": "pyout",
       "prompt_number": 10,
       "text": [
        "  title\n",
        "0  Math"
       ]
      }
     ],
     "prompt_number": 10
    },
    {
     "cell_type": "heading",
     "level": 1,
     "metadata": {},
     "source": [
      "Question 2"
     ]
    },
    {
     "cell_type": "code",
     "collapsed": false,
     "input": [
      "mergedDF=pd.merge(Classes ,pd.merge(Students,Grades ,how='outer',on='student_id'),how='outer' ,on='class_id')[['name','title','grade']]\n",
      "pivotedDF = mergedDF.pivot(index='name', columns='title', values='grade')\n",
      "pivotedDF"
     ],
     "language": "python",
     "metadata": {},
     "outputs": [
      {
       "html": [
        "<div style=\"max-height:1000px;max-width:1500px;overflow:auto;\">\n",
        "<table border=\"1\" class=\"dataframe\">\n",
        "  <thead>\n",
        "    <tr style=\"text-align: right;\">\n",
        "      <th>title</th>\n",
        "      <th>English</th>\n",
        "      <th>Math</th>\n",
        "      <th>Spanish</th>\n",
        "    </tr>\n",
        "    <tr>\n",
        "      <th>name</th>\n",
        "      <th></th>\n",
        "      <th></th>\n",
        "      <th></th>\n",
        "    </tr>\n",
        "  </thead>\n",
        "  <tbody>\n",
        "    <tr>\n",
        "      <th>Alice</th>\n",
        "      <td>   C</td>\n",
        "      <td> A</td>\n",
        "      <td> NaN</td>\n",
        "    </tr>\n",
        "    <tr>\n",
        "      <th>Bob</th>\n",
        "      <td> NaN</td>\n",
        "      <td> B</td>\n",
        "      <td>   B</td>\n",
        "    </tr>\n",
        "  </tbody>\n",
        "</table>\n",
        "</div>"
       ],
       "metadata": {},
       "output_type": "pyout",
       "prompt_number": 11,
       "text": [
        "title English Math Spanish\n",
        "name                      \n",
        "Alice       C    A     NaN\n",
        "Bob       NaN    B       B"
       ]
      }
     ],
     "prompt_number": 11
    },
    {
     "cell_type": "heading",
     "level": 1,
     "metadata": {},
     "source": [
      "Question 4"
     ]
    },
    {
     "cell_type": "code",
     "collapsed": false,
     "input": [
      "pylab.plot(r, p)\n",
      "pylab.xlabel('Recall')\n",
      "pylab.ylabel('Precision')\n",
      "pylab.title('Precision Recall Curve')"
     ],
     "language": "python",
     "metadata": {},
     "outputs": [
      {
       "metadata": {},
       "output_type": "pyout",
       "prompt_number": 29,
       "text": [
        "<matplotlib.text.Text at 0x7ff4995c0bd0>"
       ]
      },
      {
       "metadata": {},
       "output_type": "display_data",
       "png": "[encoded data removed]",
       "text": [
        "<matplotlib.figure.Figure at 0x7ff49955ee90>"
       ]
      }
     ],
     "prompt_number": 29
    },
    {
     "cell_type": "markdown",
     "metadata": {},
     "source": [
      "Precision and recall are inversely related. As the precision increases the recall decreases.A good point would be the point at which there is a good balance between recall and precision .The good point in this plot is where the precision is around 0.95-0.8 as the recall remains at around 0.72. The bad points is where the recall is between 0.75 -0.82 as the precision value goes down to almost zero.The good point/bad point depends on the requirements on the system.Sometimes the sytem requires that the points retrieved should be relevant and can tolerate failure to retrieve all the relevant points (High Precision) \n",
      "while some systems can tolerate high values of false positives while retrieving more relevant points (High Recall)"
     ]
    },
    {
     "cell_type": "heading",
     "level": 1,
     "metadata": {},
     "source": [
      "Question 5"
     ]
    },
    {
     "cell_type": "code",
     "collapsed": false,
     "input": [
      "prod['Ratio'] = prod.apply(lambda r: L.ratio(r['name_x'], r['name_y']), axis=1)\n",
      "%matplotlib inline\n",
      "import pylab\n",
      "import numpy as np\n",
      "\n",
      "def accuracy(min_ratio):\n",
      "    similar = prod[prod.Ratio > min_ratio]\n",
      "    correct = float(sum(similar.cluster_x == similar.cluster_y))\n",
      "    \n",
      "    precision = correct / len(similar)\n",
      "    recall = correct / len(clusters)\n",
      "    return (precision, recall)\n",
      "\n",
      "thresholds = np.arange(0,1,0.1).tolist()[1:]\n",
      "p2 = []\n",
      "r2 = []\n",
      "\n",
      "for t in thresholds:\n",
      "    acc = accuracy(t)\n",
      "    p2.append(acc[0])\n",
      "    r2.append(acc[1])\n",
      "#print(p)\n",
      "#print(r)\n",
      "pylab.plot(thresholds, p2)\n",
      "pylab.plot(thresholds, r2)\n",
      "pylab.xlabel('threshold')\n",
      "pylab.ylabel('precision/recall')\n",
      "pylab.title('Precision/Recall')\n",
      "pylab.legend(['precision', 'recall'], loc='upper left')"
     ],
     "language": "python",
     "metadata": {},
     "outputs": [
      {
       "metadata": {},
       "output_type": "pyout",
       "prompt_number": 34,
       "text": [
        "<matplotlib.legend.Legend at 0x7ff499194f50>"
       ]
      },
      {
       "metadata": {},
       "output_type": "display_data",
       "png": "[encoded data removed]",
       "text": [
        "<matplotlib.figure.Figure at 0x7ff4995b3c90>"
       ]
      }
     ],
     "prompt_number": 34
    },
    {
     "cell_type": "code",
     "collapsed": false,
     "input": [
      "pylab.plot(r,p)\n",
      "pylab.plot(r2,p2)\n",
      "pylab.xlabel('recall')\n",
      "pylab.ylabel('precision')\n",
      "pylab.title('Levenshtein distance vs ratio')\n",
      "pylab.legend(['distance', 'ratio'], loc='upper right')"
     ],
     "language": "python",
     "metadata": {},
     "outputs": [
      {
       "metadata": {},
       "output_type": "pyout",
       "prompt_number": 36,
       "text": [
        "<matplotlib.legend.Legend at 0x7ff499018a10>"
       ]
      },
      {
       "metadata": {},
       "output_type": "display_data",
       "png": "[encoded data removed]",
       "text": [
        "<matplotlib.figure.Figure at 0x7ff4990eff50>"
       ]
      }
     ],
     "prompt_number": 36
    },
    {
     "cell_type": "markdown",
     "metadata": {},
     "source": [
      "The Levenshtein Ratio is better than Levenshtein Distance as the area under the curve is more for the ratio as compared to distance. The precision recall values are higher and the balance is better for Levenshtein Ratio."
     ]
    }
   ],
   "metadata": {}
  }
 ]
}