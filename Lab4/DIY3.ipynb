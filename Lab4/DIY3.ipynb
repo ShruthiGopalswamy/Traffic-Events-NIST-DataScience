{
 "metadata": {
  "name": "",
  "signature": "sha256:fbae4250b2df920404b97ac08c72682838d0a3a96a1c64cd4861ef5652f862f4"
 },
 "nbformat": 3,
 "nbformat_minor": 0,
 "worksheets": [
  {
   "cells": [
    {
     "cell_type": "code",
     "collapsed": false,
     "input": [
      "%pylab inline\n",
      "import pylab\n",
      "from sklearn.datasets import fetch_mldata\n",
      "DATA_PATH = '~/data'\n",
      "mnist = fetch_mldata('MNIST original', data_home=DATA_PATH)"
     ],
     "language": "python",
     "metadata": {},
     "outputs": [
      {
       "output_type": "stream",
       "stream": "stdout",
       "text": [
        "Populating the interactive namespace from numpy and matplotlib\n"
       ]
      }
     ],
     "prompt_number": 2
    },
    {
     "cell_type": "code",
     "collapsed": false,
     "input": [
      "train = mnist.data[:60000]\n",
      "test = mnist.data[60000:]\n",
      "train_labels = mnist.target[:60000]\n",
      "test_labels = mnist.target[60000:]\n"
     ],
     "language": "python",
     "metadata": {},
     "outputs": [],
     "prompt_number": 5
    },
    {
     "cell_type": "code",
     "collapsed": false,
     "input": [
      "train_sample = train[::100]\n",
      "train_sample_labels = train_labels[::100]\n",
      "# for testing\n",
      "test_sample = test[::10]\n",
      "test_sample_labels = test_labels[::10]"
     ],
     "language": "python",
     "metadata": {},
     "outputs": [],
     "prompt_number": 6
    },
    {
     "cell_type": "heading",
     "level": 1,
     "metadata": {},
     "source": [
      "Naive Bayes"
     ]
    },
    {
     "cell_type": "heading",
     "level": 4,
     "metadata": {},
     "source": [
      "Question 1"
     ]
    },
    {
     "cell_type": "code",
     "collapsed": false,
     "input": [
      "from sklearn.naive_bayes import GaussianNB\n",
      "gnb = GaussianNB()\n",
      "modelNaiveBayes=gnb.fit(train_sample, train_sample_labels)\n",
      "y_pred = modelNaiveBayes.predict(test_sample)\n",
      "float((test_sample_labels != y_pred).sum())/test_sample.shape[0]"
     ],
     "language": "python",
     "metadata": {},
     "outputs": [
      {
       "metadata": {},
       "output_type": "pyout",
       "prompt_number": 7,
       "text": [
        "0.398"
       ]
      }
     ],
     "prompt_number": 7
    },
    {
     "cell_type": "heading",
     "level": 4,
     "metadata": {},
     "source": [
      "Question 2"
     ]
    },
    {
     "cell_type": "code",
     "collapsed": false,
     "input": [
      "import sklearn.metrics\n",
      "cm=sklearn.metrics.confusion_matrix(test_sample_labels, y_pred, labels=None)\n",
      "print(cm)"
     ],
     "language": "python",
     "metadata": {},
     "outputs": [
      {
       "output_type": "stream",
       "stream": "stdout",
       "text": [
        "[[ 82   0   2   4   0   2   1   0   5   2]\n",
        " [  0 105   0   1   0   0   3   0   5   0]\n",
        " [  7   1  50  17   2   2   3   1  17   3]\n",
        " [ 12   0   7  55   5   2   7   2   2   9]\n",
        " [  4   0   5   1  55   1   4   5   1  22]\n",
        " [  9   0   2  14  12  29   3   0  15   6]\n",
        " [  2   0  10   1   4   0  76   0   2   0]\n",
        " [  0   0   0   1   8   3   0  25   3  63]\n",
        " [  2   1   1   4  18   6   3   1  41  21]\n",
        " [  0   1   1   0   3   2   0   7   2  84]]\n"
       ]
      }
     ],
     "prompt_number": 8
    },
    {
     "cell_type": "heading",
     "level": 4,
     "metadata": {},
     "source": [
      "Question 3 "
     ]
    },
    {
     "cell_type": "markdown",
     "metadata": {},
     "source": [
      "The values that are confused most often are:  \n",
      "(4 with 9), \n",
      "(7 with 9) , \n",
      "(8 with 9) ."
     ]
    },
    {
     "cell_type": "heading",
     "level": 1,
     "metadata": {},
     "source": [
      "Linear SVM"
     ]
    },
    {
     "cell_type": "heading",
     "level": 4,
     "metadata": {},
     "source": [
      "Question 1"
     ]
    },
    {
     "cell_type": "code",
     "collapsed": false,
     "input": [
      "from sklearn.svm import SVC\n",
      "clf = SVC(kernel='linear')\n",
      "clf.fit(train_sample, train_sample_labels)\n",
      "predSVM=clf.predict(test_sample)\n",
      "float((test_sample_labels != predSVM).sum())/test_sample.shape[0]"
     ],
     "language": "python",
     "metadata": {},
     "outputs": [
      {
       "metadata": {},
       "output_type": "pyout",
       "prompt_number": 9,
       "text": [
        "0.127"
       ]
      }
     ],
     "prompt_number": 9
    },
    {
     "cell_type": "heading",
     "level": 4,
     "metadata": {},
     "source": [
      "Question 2"
     ]
    },
    {
     "cell_type": "code",
     "collapsed": false,
     "input": [
      "cm=sklearn.metrics.confusion_matrix(test_sample_labels, predSVM, labels=None)\n",
      "print(cm)"
     ],
     "language": "python",
     "metadata": {},
     "outputs": [
      {
       "output_type": "stream",
       "stream": "stdout",
       "text": [
        "[[ 95   0   0   0   0   0   3   0   0   0]\n",
        " [  0 112   0   0   0   1   1   0   0   0]\n",
        " [  2   2  88   1   1   0   2   6   1   0]\n",
        " [  0   1   6  80   1   4   0   3   2   4]\n",
        " [  0   2   0   0  88   0   4   0   0   4]\n",
        " [  0   1   1   4   1  77   3   0   3   0]\n",
        " [  1   0   1   0   5   2  86   0   0   0]\n",
        " [  0   1   6   0   1   0   0  91   0   4]\n",
        " [  2   1   1   3   4   5   2   1  79   0]\n",
        " [  2   1   0   4  10   0   1   4   1  77]]\n"
       ]
      }
     ],
     "prompt_number": 10
    },
    {
     "cell_type": "heading",
     "level": 4,
     "metadata": {},
     "source": [
      "Question 3 "
     ]
    },
    {
     "cell_type": "markdown",
     "metadata": {},
     "source": [
      "The values that are confused most often is\n",
      "9 with 5"
     ]
    },
    {
     "cell_type": "heading",
     "level": 1,
     "metadata": {},
     "source": [
      "Logistic Regression"
     ]
    },
    {
     "cell_type": "heading",
     "level": 4,
     "metadata": {},
     "source": [
      "Question 1"
     ]
    },
    {
     "cell_type": "code",
     "collapsed": false,
     "input": [
      "clf2=sklearn.linear_model.LogisticRegression()\n",
      "clf2.fit(train_sample, train_sample_labels)\n",
      "logRegPred=clf2.predict(test_sample)\n",
      "print (float((test_sample_labels != logRegPred).sum())/test_sample.shape[0])\n"
     ],
     "language": "python",
     "metadata": {},
     "outputs": [
      {
       "output_type": "stream",
       "stream": "stdout",
       "text": [
        "0.178\n"
       ]
      }
     ],
     "prompt_number": 11
    },
    {
     "cell_type": "heading",
     "level": 4,
     "metadata": {},
     "source": [
      "Question 2"
     ]
    },
    {
     "cell_type": "code",
     "collapsed": false,
     "input": [
      "cm=sklearn.metrics.confusion_matrix(test_sample_labels, logRegPred, labels=None)\n",
      "print(cm)"
     ],
     "language": "python",
     "metadata": {},
     "outputs": [
      {
       "output_type": "stream",
       "stream": "stdout",
       "text": [
        "[[ 94   0   0   0   0   0   2   1   1   0]\n",
        " [  0 111   0   1   0   0   1   0   1   0]\n",
        " [  2   3  83   5   1   0   1   1   5   2]\n",
        " [  1   0   6  74   1   3   1   4   6   5]\n",
        " [  0   0   0   0  80   0   4   1   5   8]\n",
        " [  4   0   1   1   1  65   4   2   9   3]\n",
        " [  1   1   0   0   3   1  87   0   2   0]\n",
        " [  0   1   3   1   2   0   0  89   2   5]\n",
        " [  2   2   1   3   3   5   5   3  69   5]\n",
        " [  3   1   2   3   7   1   1   5   7  70]]\n"
       ]
      }
     ],
     "prompt_number": 12
    },
    {
     "cell_type": "heading",
     "level": 4,
     "metadata": {},
     "source": [
      "Question 3"
     ]
    },
    {
     "cell_type": "markdown",
     "metadata": {},
     "source": [
      "the most confused pair is \n",
      "(5 with 8) ,\n",
      "(4 with 9) ."
     ]
    }
   ],
   "metadata": {}
  }
 ]
}