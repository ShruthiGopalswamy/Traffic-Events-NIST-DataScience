{
 "metadata": {
  "name": "",
  "signature": "sha256:dd0959e16252d6d2e5f4e7d97d8ff4e5836d4bac4c0dd675ed17776892a8ebe1"
 },
 "nbformat": 3,
 "nbformat_minor": 0,
 "worksheets": [
  {
   "cells": [
    {
     "cell_type": "markdown",
     "metadata": {},
     "source": [
      "The statemnt is:\n",
      "\n",
      "\n",
      "Parsing or syntactic analysis is the process of analysing a string of symbols , either in natural language or in computer languages , according to the rules of a formal grammar"
     ]
    },
    {
     "cell_type": "markdown",
     "metadata": {},
     "source": [
      "The sentence has been parsed correctly as it follows the rules of formal grammar. It tags each word to a particular part of speech based on the meaning and context of the word.\n",
      "\n",
      "\n",
      "An example of the parsing is as follows:\n",
      "The root element contains the entire sentence\n",
      "\n",
      "\n",
      "\n",
      "s='Parsing or syntactic analysis is the process of analysing a string of symbols , either in natural language or in computer languages , according to the rules of a formal grammar'\n",
      "\n",
      "\n",
      " \n",
      "This sentence is then divided into :\n",
      "Noun Phrase(NP) -'Parsing or syntactic analysis'\n",
      "Verb Phrase (VP)-'is the process of analysing a string of symbols , either in natural language or in computer languages'\n",
      "and Prepositional Phrase(PP)-'according to the rules of a formal grammar'\n",
      "\n",
      "The Noun Phrase is broken down into:\n",
      "Noun Phrase (NP) which is further broken down as Proper Noun(NP) -'Parsing'\n",
      "Coordinating conjunction(CC) -'or'\n",
      "Noun Phrase(NP) which is broken down as Adjective (JJ)-'syntatic' and singular Noun (NN) -'analysis'\n"
     ]
    }
   ],
   "metadata": {}
  }
 ]
}