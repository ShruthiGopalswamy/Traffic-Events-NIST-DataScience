{
 "metadata": {
  "name": "",
  "signature": "sha256:9993d9dff8ffb228136190be1a4a7e03a93ff68252a906314b68649df8f8753b"
 },
 "nbformat": 3,
 "nbformat_minor": 0,
 "worksheets": [
  {
   "cells": [
    {
     "cell_type": "code",
     "collapsed": false,
     "input": [
      "from lxml import etree \n",
      "parser = etree.XMLParser(recover=True)\n",
      "tree = etree.parse('/home/datascience/labs/lab6/cat.xml',parser)\n",
      "root=tree.getroot() \n"
     ],
     "language": "python",
     "metadata": {},
     "outputs": [],
     "prompt_number": 6
    },
    {
     "cell_type": "code",
     "collapsed": false,
     "input": [
      "def printnode(node):    \n",
      "    for i in node.findall(\".//leaf\"):        \n",
      "        print(\" \" + i.attrib['value']),    \n",
      "    print('') \n",
      "    \n",
      "def testnode2(node, agent, action):\n",
      "    aa = node.findall(\"./node[@value='NP']//node[@value='NNS']//leaf[@value='\"+agent+\"']\")    \n",
      "    bb = node.findall(\"./node[@value='VP']//leaf[@value='\"+action+\"']\")    \n",
      "    if (len(aa) > 0 and len(bb) > 0):        \n",
      "        printnode(node) \n",
      "        \n",
      "title = 'cats'\n",
      "def agentact2(node, agent, action):\n",
      "    testnode2(node, agent, action)\n",
      "    snodes = node.findall(\".//node[@value='S']\")\n",
      "    for snode in snodes:\n",
      "        testnode2(snode, agent, action)\n",
      "\n",
      "map(lambda (nn): agentact2(nn[0][0][0], title, 'are'), root)\n",
      "map(lambda (nn): agentact2(nn[0][0][0], title, 'have'), root)\n",
      "[]"
     ],
     "language": "python",
     "metadata": {},
     "outputs": [
      {
       "output_type": "stream",
       "stream": "stdout",
       "text": [
        " Domestic  cats  are  found  in  shorthair  and  longhair  breeds  . \n",
        " The  big  cats  are  well  known  :  lions  ,  tigers  ,  leopards  ,  jaguars  ,  pumas  ,  and  cheetahs  . \n",
        " The  big  cats  and  wild  cats  are  not  tame  ,  and  can  be  very  dangerous  . \n",
        " These  kinds  of  cats  are  called  ``  feral  cats  ''  . \n",
        " While  dogs  have  great  stamina  and  will  chase  prey  over  long  distances  ,  cats  are  extremely  fast  ,  but  only  over  short  distances  . \n",
        " People"
       ]
      },
      {
       "output_type": "stream",
       "stream": "stdout",
       "text": [
        "  who  receive  cats  as  gifts  are  recommended  to  get  it  examined  for  its  health  . \n",
        " All  of  these  cats  are  called  polydactyl  cats  . \n",
        " the  cats  would  have  something  to  eat  in  the  afterlife \n",
        " Compared  to  other  felines  ,  domestic  cats  have  narrowly  spaced  canine  teeth \n",
        " Most "
       ]
      },
      {
       "output_type": "stream",
       "stream": "stdout",
       "text": [
        " cats  have  five  claws  on  their  front  paws  ,  and  four  on  their  rear  paws  . \n",
        " House  cats  have  also  been  known  to  teach  themselves  to  use  lever-type  doorknobs  and  toilet  handles.YouTube \n",
        " Most"
       ]
      },
      {
       "output_type": "stream",
       "stream": "stdout",
       "text": [
        "  cats  have  only  four  to  five  toes  per  paw  ,  depending  on  whether  it  is  the  front  or  back  paw  . \n",
        " These  mutated  cats  have  six  ,  seven  ,  and  in  rare  cases  even  more  . \n"
       ]
      },
      {
       "metadata": {},
       "output_type": "pyout",
       "prompt_number": 4,
       "text": [
        "[]"
       ]
      }
     ],
     "prompt_number": 4
    },
    {
     "cell_type": "code",
     "collapsed": false,
     "input": [],
     "language": "python",
     "metadata": {},
     "outputs": []
    }
   ],
   "metadata": {}
  }
 ]
}