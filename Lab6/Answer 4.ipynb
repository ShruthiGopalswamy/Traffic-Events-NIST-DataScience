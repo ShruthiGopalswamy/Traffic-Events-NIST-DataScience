{
 "metadata": {
  "name": "",
  "signature": "sha256:a09c5cbbf84dd4a3dff8b5cf2de6ba258a5dfe4d5e06e94b7c92d606b550551c"
 },
 "nbformat": 3,
 "nbformat_minor": 0,
 "worksheets": [
  {
   "cells": [
    {
     "cell_type": "heading",
     "level": 4,
     "metadata": {},
     "source": [
      "JIM PARSONS"
     ]
    },
    {
     "cell_type": "code",
     "collapsed": false,
     "input": [
      "from lxml import etree \n",
      "parser = etree.XMLParser(recover=True)\n",
      "tree = etree.parse('/home/datascience/labs/lab6/JimParsons.xml',parser)\n",
      "root1=tree.getroot() \n"
     ],
     "language": "python",
     "metadata": {},
     "outputs": [],
     "prompt_number": 11
    },
    {
     "cell_type": "code",
     "collapsed": false,
     "input": [
      "title='Parsons'\n",
      "def printnode(node):    \n",
      "    for i in node.findall(\".//leaf\"):        \n",
      "        print(\" \" + i.attrib['value']),    \n",
      "    print('') \n",
      "def testnodeJim(node, agent, action):    \n",
      "    aa = node.findall(\"./node[@value='NP']//node[@value='NNP']//leaf[@value='\"+agent+\"']\")\n",
      "    \n",
      "    bb = node.findall(\"./node[@value='VP']//leaf[@value='\"+action+\"']\")\n",
      "    if (len(bb) > 0 and len(aa)>0):        \n",
      "        printnode(node)     \n",
      "\n",
      "def agentactJim(node, agent, action):    \n",
      "    testnodeJim(node, agent, action)    \n",
      "    snodes = node.findall(\".//node[@value='S']\")    \n",
      "    for snode in snodes:        \n",
      "        testnodeJim(snode, agent, action)"
     ],
     "language": "python",
     "metadata": {},
     "outputs": [],
     "prompt_number": 37
    },
    {
     "cell_type": "code",
     "collapsed": false,
     "input": [
      "map(lambda (nn): agentactJim(nn[0][0][0], title, 'is'), root1)\n",
      "[]"
     ],
     "language": "python",
     "metadata": {},
     "outputs": [
      {
       "output_type": "stream",
       "stream": "stdout",
       "text": [
        " ``  James  Joseph  ``  Jim  ''  Parsons  -LRB-  born  March  24  ,  1973  in  Houston  ,  Texas  -RRB-  is  an  American  actor  . \n",
        " Parsons  is  best  known  for  playing  the  role  of  Sheldon  Cooper  in  the  television  series  ,  The  Big  Bang  Theory  . \n",
        " According  to  The  New  York  Times  ,  Parsons  is  gay.Stalked  by  shadows  Filmography  Movies  Nowhere  to  Go \n"
       ]
      },
      {
       "metadata": {},
       "output_type": "pyout",
       "prompt_number": 38,
       "text": [
        "[]"
       ]
      }
     ],
     "prompt_number": 38
    },
    {
     "cell_type": "heading",
     "level": 4,
     "metadata": {},
     "source": [
      "BARACK OBAMA "
     ]
    },
    {
     "cell_type": "code",
     "collapsed": false,
     "input": [
      "from lxml import etree \n",
      "parser = etree.XMLParser(recover=True)\n",
      "tree = etree.parse('/home/datascience/labs/lab6/BarackObama.xml',parser)\n",
      "root2=tree.getroot()"
     ],
     "language": "python",
     "metadata": {},
     "outputs": [],
     "prompt_number": 39
    },
    {
     "cell_type": "code",
     "collapsed": false,
     "input": [
      "title2='Obama'\n",
      "def testnodeBarackFact(node, agent, action):    \n",
      "    aa = node.findall(\"./node[@value='NP']//node[@value='NNP']//leaf[@value='\"+agent+\"']\")\n",
      "    bb = node.findall(\"./node[@value='VP']//leaf[@value='\"+action+\"']\")\n",
      "    if (len(bb) > 0 and len(aa)>0):        \n",
      "        printnode(node)     \n",
      "\n",
      "def agentactBarackFact(node, agent, action):    \n",
      "    testnodeBarackFact(node, agent, action)    \n",
      "    snodes = node.findall(\".//node[@value='S']\")    \n",
      "    for snode in snodes:        \n",
      "        testnodeBarackFact(snode, agent, action)"
     ],
     "language": "python",
     "metadata": {},
     "outputs": [],
     "prompt_number": 44
    },
    {
     "cell_type": "code",
     "collapsed": false,
     "input": [
      "\n",
      "map(lambda (nn): agentactBarackFact(nn[0][0][0], title2, 'has'), root2)\n",
      "[]\n"
     ],
     "language": "python",
     "metadata": {},
     "outputs": [
      {
       "output_type": "stream",
       "stream": "stdout",
       "text": [
        " Obama  has  been  married  to  Michelle  Obama  since  1992  . \n",
        " Obama  has  a  half  sister  who  is  a  teacher  in  Hawaii  . \n",
        " Obama  has  started  the  ending  of  the  Iraq  War  and  continued  the  war  on  terror  which  resulted  in  the  death  of  Osama  bin  Laden  on  May  2  ,  2011  . \n",
        " Obama  has  started  a  no-fly-zone  policy  on  Libya  which  ended  the  civil  war  in  October  2011  with  the  killing  of  Muammar  al-Gaddafi  . \n",
        " Obama"
       ]
      },
      {
       "output_type": "stream",
       "stream": "stdout",
       "text": [
        "  has  resulted  in  using  his  Executive  Order  -LRB-  his  power  as  president  -RRB-  to  help  reform  things  like  the  immigration  system \n"
       ]
      },
      {
       "metadata": {},
       "output_type": "pyout",
       "prompt_number": 47,
       "text": [
        "[]"
       ]
      }
     ],
     "prompt_number": 47
    },
    {
     "cell_type": "code",
     "collapsed": false,
     "input": [],
     "language": "python",
     "metadata": {},
     "outputs": []
    }
   ],
   "metadata": {}
  }
 ]
}