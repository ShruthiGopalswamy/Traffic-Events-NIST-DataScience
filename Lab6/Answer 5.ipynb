{
 "metadata": {
  "name": "",
  "signature": "sha256:3ca010ea27595701551c323ab857046b697c9b9ea6bd13f25e438c22db0f2b49"
 },
 "nbformat": 3,
 "nbformat_minor": 0,
 "worksheets": [
  {
   "cells": [
    {
     "cell_type": "code",
     "collapsed": false,
     "input": [
      "from lxml import etree \n",
      "parser = etree.XMLParser(recover=True)\n",
      "tree = etree.parse('/home/datascience/labs/lab6/BarackObama.xml',parser)\n",
      "root=tree.getroot()"
     ],
     "language": "python",
     "metadata": {},
     "outputs": [],
     "prompt_number": 3
    },
    {
     "cell_type": "heading",
     "level": 4,
     "metadata": {},
     "source": [
      " Place of birth"
     ]
    },
    {
     "cell_type": "code",
     "collapsed": false,
     "input": [
      "title='Obama'\n",
      "def printnode(node):    \n",
      "    for i in node.findall(\".//leaf\"):        \n",
      "        print(\" \" + i.attrib['value']),    \n",
      "    print('') \n",
      "\n",
      "def testnodeBarack(node, agent, action):    \n",
      "    aa = node.findall(\"./node[@value='NP']//node[@value='NNP']//leaf[@value='\"+agent+\"']\")    \n",
      "    bb = node.findall(\"./node[@value='NP']//leaf[@value='\"+action+\"']\")    \n",
      "    if (len(aa) > 0 and len(bb) > 0):        \n",
      "        printnode(node)     \n",
      "\n",
      "def agentactBarack(node, agent, action):    \n",
      "    testnodeBarack(node, agent, action)    \n",
      "    snodes = node.findall(\".//node[@value='S']\")    \n",
      "    for snode in snodes:        \n",
      "        testnodeBarack(snode, agent, action)"
     ],
     "language": "python",
     "metadata": {},
     "outputs": [],
     "prompt_number": 14
    },
    {
     "cell_type": "code",
     "collapsed": false,
     "input": [
      "map(lambda (nn): agentactBarack(nn[0][0][0], title, 'born'), root)\n",
      "[]"
     ],
     "language": "python",
     "metadata": {},
     "outputs": [
      {
       "output_type": "stream",
       "stream": "stdout",
       "text": [
        " ``  Barack  Hussein  Obama  II  -LRB-  ;  born  August  4  ,  1961  -RRB-  is  the  44th  and  current  President  of  the  United  States  and  the  first  African-American  to  hold  the  office  . \n"
       ]
      },
      {
       "metadata": {},
       "output_type": "pyout",
       "prompt_number": 15,
       "text": [
        "[]"
       ]
      }
     ],
     "prompt_number": 15
    },
    {
     "cell_type": "heading",
     "level": 4,
     "metadata": {},
     "source": [
      "Spouse"
     ]
    },
    {
     "cell_type": "code",
     "collapsed": false,
     "input": [
      "def testnodeBarack2(node, agent, action):    \n",
      "    aa = node.findall(\"./node[@value='NP']//node[@value='NNP']//leaf[@value='\"+agent+\"']\")    \n",
      "    bb = node.findall(\"./node[@value='VP']//leaf[@value='\"+action+\"']\")    \n",
      "    if (len(aa) > 0 and len(bb) > 0):        \n",
      "        printnode(node)     \n",
      "\n",
      "def agentactBarack2(node, agent, action):    \n",
      "    testnodeBarack2(node, agent, action)    \n",
      "    snodes = node.findall(\".//node[@value='S']\")    \n",
      "    for snode in snodes:        \n",
      "        testnodeBarack2(snode, agent, action)\n",
      "\n",
      " "
     ],
     "language": "python",
     "metadata": {},
     "outputs": [],
     "prompt_number": 12
    },
    {
     "cell_type": "code",
     "collapsed": false,
     "input": [
      "map(lambda (nn): agentactBarack2(nn[0][0][0], title, 'married'), root)\n",
      "[]"
     ],
     "language": "python",
     "metadata": {},
     "outputs": [
      {
       "output_type": "stream",
       "stream": "stdout",
       "text": [
        " Obama  has  been  married  to  Michelle  Obama  since  1992  . \n"
       ]
      },
      {
       "metadata": {},
       "output_type": "pyout",
       "prompt_number": 13,
       "text": [
        "[]"
       ]
      }
     ],
     "prompt_number": 13
    },
    {
     "cell_type": "code",
     "collapsed": false,
     "input": [
      "def testnodeBarack3(node, agent, action):    \n",
      "    aa = node.findall(\"./node[@value='NP']//node[@value='NNP']//leaf[@value='\"+agent+\"']\")\n",
      "    bb = node.findall(\"./node[@value='VP']//leaf[@value='\"+action+\"']\")\n",
      "    \n",
      "    if (len(bb) > 0 and len(aa)>0 ):        \n",
      "        printnode(node)     \n",
      "\n",
      "def agentactBarack3(node, agent, action):    \n",
      "    testnodeBarack3(node, agent, action)    \n",
      "    snodes = node.findall(\".//node[@value='S']\")    \n",
      "    for snode in snodes:        \n",
      "        testnodeBarack3(snode, agent, action)"
     ],
     "language": "python",
     "metadata": {},
     "outputs": [],
     "prompt_number": 16
    },
    {
     "cell_type": "code",
     "collapsed": false,
     "input": [
      "map(lambda (nn): agentactBarack3(nn[0][0][0], title, 'University'), root)\n",
      "[]"
     ],
     "language": "python",
     "metadata": {},
     "outputs": [
      {
       "output_type": "stream",
       "stream": "stdout",
       "text": [
        " After  taking  time  off  to  community  organize  ,  Obama  went  to  law  school  at  Harvard  University  . \n"
       ]
      },
      {
       "metadata": {},
       "output_type": "pyout",
       "prompt_number": 17,
       "text": [
        "[]"
       ]
      }
     ],
     "prompt_number": 17
    },
    {
     "cell_type": "code",
     "collapsed": false,
     "input": [],
     "language": "python",
     "metadata": {},
     "outputs": []
    }
   ],
   "metadata": {}
  }
 ]
}