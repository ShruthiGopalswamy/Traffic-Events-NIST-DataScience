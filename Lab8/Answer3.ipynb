{
 "metadata": {
  "name": "",
  "signature": "sha256:29fb809b5b3cef1c596dc4d30844f687b0e8ee8f63656a150652808e94ef844f"
 },
 "nbformat": 3,
 "nbformat_minor": 0,
 "worksheets": [
  {
   "cells": [
    {
     "cell_type": "heading",
     "level": 4,
     "metadata": {},
     "source": [
      "Answer 3"
     ]
    },
    {
     "cell_type": "code",
     "collapsed": false,
     "input": [
      "import csv\n",
      "import pandas as pd\n",
      "import numpy as np\n",
      "import matplotlib.pyplot as plt"
     ],
     "language": "python",
     "metadata": {},
     "outputs": [],
     "prompt_number": 1
    },
    {
     "cell_type": "code",
     "collapsed": false,
     "input": [
      "df = pd.read_csv('cleaning_test_06_09.tsv', sep='\\t')"
     ],
     "language": "python",
     "metadata": {},
     "outputs": [],
     "prompt_number": 2
    },
    {
     "cell_type": "code",
     "collapsed": false,
     "input": [
      "%matplotlib inline\n",
      "#df.hist('flow', normed=1, histtype='bar', rwidth=0.8)\n",
      "plt.hist(df['flow'],bins=50, weights=np.zeros_like(df['flow']) + 1. / df['flow'].size, rwidth=0.8)\n",
      "plt.xlabel('Flow')\n",
      "plt.ylabel('Frequency')\n",
      "plt.title('Flow')\n",
      "plt.plot()"
     ],
     "language": "python",
     "metadata": {},
     "outputs": [
      {
       "metadata": {},
       "output_type": "pyout",
       "prompt_number": 5,
       "text": [
        "[]"
       ]
      },
      {
       "metadata": {},
       "output_type": "display_data",
       "png": "[encoded data removed]",
       "text": [
        "<matplotlib.figure.Figure at 0x7f03f75d2650>"
       ]
      }
     ],
     "prompt_number": 5
    },
    {
     "cell_type": "code",
     "collapsed": false,
     "input": [
      "%matplotlib inline\n",
      "#df.hist('speed', normed=1, histtype='bar', rwidth=0.8)\n",
      "plt.hist(df['speed'],bins=50, weights=np.zeros_like(df['speed']) + 1. / df['speed'].size, rwidth=0.8)\n",
      "plt.xlabel('Speed')\n",
      "plt.ylabel('Frequency')\n",
      "plt.title('Speed')\n",
      "plt.plot()"
     ],
     "language": "python",
     "metadata": {},
     "outputs": [
      {
       "metadata": {},
       "output_type": "pyout",
       "prompt_number": 6,
       "text": [
        "[]"
       ]
      },
      {
       "metadata": {},
       "output_type": "display_data",
       "png": "[encoded data removed]",
       "text": [
        "<matplotlib.figure.Figure at 0x7f03cf1a4ed0>"
       ]
      }
     ],
     "prompt_number": 6
    },
    {
     "cell_type": "code",
     "collapsed": false,
     "input": [
      "%matplotlib inline\n",
      "#df.hist('occupancy', normed=1, histtype='bar', rwidth=0.8)\n",
      "plt.hist(df['occupancy'],bins=50, weights=np.zeros_like(df['occupancy']) + 1. / df['occupancy'].size, rwidth=0.8)\n",
      "plt.xlabel('Occupancy')\n",
      "plt.ylabel('Frequency')\n",
      "plt.title('Occupancy')\n",
      "plt.plot()"
     ],
     "language": "python",
     "metadata": {},
     "outputs": [
      {
       "metadata": {},
       "output_type": "pyout",
       "prompt_number": 7,
       "text": [
        "[]"
       ]
      },
      {
       "metadata": {},
       "output_type": "display_data",
       "png": "[encoded data removed]",
       "text": [
        "<matplotlib.figure.Figure at 0x7f03f7606d10>"
       ]
      }
     ],
     "prompt_number": 7
    }
   ],
   "metadata": {}
  }
 ]
}